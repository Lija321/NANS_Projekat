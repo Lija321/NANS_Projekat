{
 "cells": [
  {
   "cell_type": "code",
   "execution_count": 1,
   "metadata": {},
   "outputs": [],
   "source": [
    "import pandas as pd\n",
    "import numpy as np\n",
    "import matplotlib.pyplot as plt\n",
    "import random\n",
    "random.seed(1337)\n",
    "import warnings \n",
    "warnings.filterwarnings('ignore')\n",
    "pd.set_option('display.max_columns', None)\n",
    "from IPython.display import display"
   ]
  },
  {
   "cell_type": "markdown",
   "metadata": {},
   "source": [
    "### Izvlacenje y(predvidjenih vrednosti) iz modela"
   ]
  },
  {
   "cell_type": "code",
   "execution_count": 2,
   "metadata": {},
   "outputs": [
    {
     "data": {
      "text/html": [
       "<div>\n",
       "<style scoped>\n",
       "    .dataframe tbody tr th:only-of-type {\n",
       "        vertical-align: middle;\n",
       "    }\n",
       "\n",
       "    .dataframe tbody tr th {\n",
       "        vertical-align: top;\n",
       "    }\n",
       "\n",
       "    .dataframe thead th {\n",
       "        text-align: right;\n",
       "    }\n",
       "</style>\n",
       "<table border=\"1\" class=\"dataframe\">\n",
       "  <thead>\n",
       "    <tr style=\"text-align: right;\">\n",
       "      <th></th>\n",
       "      <th>game_id</th>\n",
       "      <th>score</th>\n",
       "    </tr>\n",
       "  </thead>\n",
       "  <tbody>\n",
       "    <tr>\n",
       "      <th>923</th>\n",
       "      <td>E2017_238_b</td>\n",
       "      <td>86</td>\n",
       "    </tr>\n",
       "    <tr>\n",
       "      <th>924</th>\n",
       "      <td>E2017_239_a</td>\n",
       "      <td>106</td>\n",
       "    </tr>\n",
       "    <tr>\n",
       "      <th>925</th>\n",
       "      <td>E2017_239_b</td>\n",
       "      <td>86</td>\n",
       "    </tr>\n",
       "    <tr>\n",
       "      <th>926</th>\n",
       "      <td>E2017_240_a</td>\n",
       "      <td>87</td>\n",
       "    </tr>\n",
       "    <tr>\n",
       "      <th>927</th>\n",
       "      <td>E2017_240_b</td>\n",
       "      <td>84</td>\n",
       "    </tr>\n",
       "  </tbody>\n",
       "</table>\n",
       "</div>"
      ],
      "text/plain": [
       "         game_id  score\n",
       "923  E2017_238_b     86\n",
       "924  E2017_239_a    106\n",
       "925  E2017_239_b     86\n",
       "926  E2017_240_a     87\n",
       "927  E2017_240_b     84"
      ]
     },
     "execution_count": 2,
     "metadata": {},
     "output_type": "execute_result"
    }
   ],
   "source": [
    "df = pd.read_csv('./euroleague_simple/euroleague_header.csv')\n",
    "\n",
    "df=df[\n",
    "    ['game_id',\n",
    "     'team_id_a',\n",
    "     'score_a',\n",
    "     'team_id_b',\n",
    "     'score_b',\n",
    "     'round',\n",
    "     'phase',\n",
    "     'season_code']\n",
    "]\n",
    "\n",
    "df=df[df['phase']==\"REGULAR SEASON\"]\n",
    "df=df[df['season_code']>='E2016']\n",
    "df=df[df['season_code']<='E2017']\n",
    "\n",
    "df_paresed=pd.DataFrame(columns=[\"game_id\",\"score\"])\n",
    "\n",
    "for i in range(0,len(df)):\n",
    "    game_id=df.iloc[i]['game_id']\n",
    "    #Team a\n",
    "    team_id_a=df.iloc[i]['team_id_a']\n",
    "    score_a=df.iloc[i]['score_a']\n",
    "    #Team b\n",
    "    team_id_b=df.iloc[i]['team_id_b']\n",
    "    score_b=df.iloc[i]['score_b']\n",
    "\n",
    "    round=df.iloc[i]['round']\n",
    "    if round==1:\n",
    "        continue\n",
    "    df_paresed.loc[len(df_paresed)]=[f\"{game_id}_a\",score_a] #Add a\n",
    "    df_paresed.loc[len(df_paresed)]=[f\"{game_id}_b\",score_b] #Add b\n",
    "   \n",
    "df_paresed.to_csv('./parsed_data/predvidjanja.csv',index=False)\n",
    "\n",
    "df_paresed.tail()"
   ]
  }
 ],
 "metadata": {
  "kernelspec": {
   "display_name": ".venv",
   "language": "python",
   "name": "python3"
  },
  "language_info": {
   "codemirror_mode": {
    "name": "ipython",
    "version": 3
   },
   "file_extension": ".py",
   "mimetype": "text/x-python",
   "name": "python",
   "nbconvert_exporter": "python",
   "pygments_lexer": "ipython3",
   "version": "3.10.12"
  }
 },
 "nbformat": 4,
 "nbformat_minor": 2
}
